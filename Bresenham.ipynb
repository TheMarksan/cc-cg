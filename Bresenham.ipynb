{
  "nbformat": 4,
  "nbformat_minor": 0,
  "metadata": {
    "colab": {
      "provenance": [],
      "authorship_tag": "ABX9TyPd5ASmkYhQJgJTm7XhHthc",
      "include_colab_link": true
    },
    "kernelspec": {
      "name": "python3",
      "display_name": "Python 3"
    },
    "language_info": {
      "name": "python"
    }
  },
  "cells": [
    {
      "cell_type": "markdown",
      "metadata": {
        "id": "view-in-github",
        "colab_type": "text"
      },
      "source": [
        "<a href=\"https://colab.research.google.com/github/TheMarksan/cc-cg/blob/main/Bresenham.ipynb\" target=\"_parent\"><img src=\"https://colab.research.google.com/assets/colab-badge.svg\" alt=\"Open In Colab\"/></a>"
      ]
    },
    {
      "cell_type": "markdown",
      "source": [
        "# **Introdução**\n",
        "\n",
        "A computação gráfica trata-se da síntese de imagens de objetos reais ou imaginários a partir de modelos computacionais. Antes de prosseguir, revisitaremos alguns conceitos introdutórios:\n",
        "\n",
        "***Síntese de imagens:*** objetos tais como segmentos de reta, polígonos, poliedros, esferas etc.\n",
        "\n",
        "***Processamento de imagens:*** imagens já prontas para visualização, as quais são transferidas para o computador para serem manipuladas.\n",
        "\n",
        "***OpenGL***: Sistema gráfico utilizado em modo imediato ou com display list\n",
        "\n",
        "***Vector graphics***: classe de gráficos para obtenção de figuras a partir de segmentos de reta (vetores)\n",
        "\n",
        "***Raster graphics (matriciais)***: classe de gráficos para obtenção de figuras a partir do preenchimento de uma matriz de pontos (pixels)\n",
        "\n",
        "***Resolução gráfica:*** o número de posições endereçáveis (ou pixels) horizontais/verticais que um dispositivo I/O pode distinguir.\n",
        "\n",
        "***Parâmetros de resol. gráfica:***\n",
        "\n",
        "ndh (posições horizontalmente): número de unidades lógicas/discretas na horizontal (por ex.: 8 retangulos em 800px = 800/8 = 100)\n",
        "ndv (posições verticalmente): número de unidades lógicas/discretas na vertical (por ex.: 10 retangulos em 800px = 800/10 = 80)\n",
        "width (largura do retângulo de visualização em mm) e height (altura do retângulo de visualização em mm)\n",
        "\n",
        "\n",
        "\n",
        "### **Resolução horizontal:** $$ {horiz\\_res} = \\frac{ndh}{width} $$\n",
        "\n",
        "### **Tamanho ponto horizontal:** $$ {horiz\\_dot\\_res} = \\frac{width}{ndh} $$\n",
        "\n",
        "### **Resolução vertical:** $$ {vert\\_res} = \\frac{ndv}{heigth} $$\n",
        "\n",
        "### **Tamanho ponto vertical:** $$ {vert\\_dot\\_res} = \\frac{height}{ndv} $$\n",
        "\n",
        "### **Total pontos endereçáveis:** $$ {total\\_nr\\_dots} = {width.}{ndh} $$\n",
        "\n",
        "### **Resolução de área:** $$ {area\\_res} = \\frac{total\\_nr\\_dots}{{width.}{height}} $$\n",
        "\n",
        "### **Razão de aspecto gráfica:** $$ {aspect\\_ratio} = \\frac{vert\\_dot\\_size}{horiz\\_dot\\_size} $$\n",
        "\n",
        "### **Razão de aspecto física:** $$ {physical\\_aspect\\_ratio} = \\frac{height}{width} $$\n",
        "\n",
        "\n",
        "### **Coordenadas (do dispositivo):**\n",
        "\n",
        "*Horizontalmente:* 0 ≤ dcx (coordenada) ≤ ndh − 1\n",
        "\n",
        "*Verticalmente:* 0 ≤ dcy (coordenada) ≤ ndv − 1\n",
        "\n",
        "### **Coordenadas normalizadas do dispositivo - independe de dispositivos gráficos específicos (ndcx, ndcy) :**\n",
        "\n",
        "*Horizontalmente:* 0 ≤ ndcx ≤ 1\n",
        "\n",
        "*Verticalmente:* 0 ≤ ndcy ≤ 1\n",
        "\n",
        "NDC (0,0): origem\n",
        "NDC (1,1): pixel do canto superior direito ((ndhm1,nhdvm1) no dispositivo)\n",
        "\n",
        "### **Coordenadas físicas :**\n",
        "\n",
        "*pcx:* coordenadas fracionária/distância física ao longo do eixo x a partir do extremo esquerdo do retãngulo de visualização - de 0.0 a 1.0\n",
        "\n",
        "*pcy:* coordenadas fracionária/distância física ao longo do eixo y a partir do extremo inferior - de 0.0 a 1.0\n",
        "\n",
        "pixel_x = trunc(pcx * width)\n",
        "pixel_y = trunc(pcy * height)\n",
        "\n",
        "### **Tranformação de coordenadas físicas p/ coordenadas do dispositivo :**\n",
        "\n",
        "$$ {dcx} = {trunc(}{ndhm1}\\frac{pcx}{width}{)} $$\n",
        "$$ {dcy} = {trunc(}{ndvm1}\\frac{pcy}{height}{)} $$\n",
        "\n",
        "\n",
        "### **Coordenadas do usuário :**\n",
        "\n",
        "*xmin ≤ **x** ≤ xmax*\n",
        "\n",
        "*ymin ≤ **y** ≤ ymax*\n",
        "\n",
        "### **Transformação de coordenadas do usuário (x, y) para NDCs (ndcx, ndcy):**\n",
        "\n",
        "*Ps.: área retangular no espaçoo bidimensional*\n",
        "\n",
        "$$ {ndcx} = \\frac{x-xmin}{xmax-xmin} $$\n",
        "\n",
        "$$ {ndcy} = \\frac{y-xmin}{ymax-ymin} $$\n",
        "\n",
        "\n"
      ],
      "metadata": {
        "id": "Q4HiGCCqakmv"
      }
    },
    {
      "cell_type": "code",
      "execution_count": 15,
      "metadata": {
        "colab": {
          "base_uri": "https://localhost:8080/"
        },
        "id": "nj_hQGhJWtkK",
        "outputId": "429ddb59-5a5e-4be7-d1fe-6a7272b3a1a5"
      },
      "outputs": [
        {
          "output_type": "stream",
          "name": "stdout",
          "text": [
            "0.0\n",
            "0.0\n",
            "960.672755905512\n",
            "540.3784251968505\n"
          ]
        }
      ],
      "source": [
        "# Conversão de coordenadas de entrada (em pixels) para coordenadas normalizadas (NDC)\n",
        "# Dpi/ppi = pixels per inch\n",
        "def inp_to_ndc(dcy, dcx, width, height):\n",
        "\n",
        "  ndcx = (2.0 * dcx) / width - 1.0\n",
        "  ndcy = -(2.0 * dcy) / height + 1.0\n",
        "\n",
        "  return ndcx, ndcy\n",
        "\n",
        "# Default 96\n",
        "# p (tamanho em cm) to disp (tamanho em pixels)\n",
        "# 1 inch = 2.54 cm\n",
        "def p_to_disp(xf_cm, yf_cm, dpi=96):\n",
        "  dcx = xf_cm * dpi / 2.54\n",
        "  dcy = yf_cm * dpi / 2.54\n",
        "  return dcx, dcy\n",
        "\n",
        "# Inverso de inp_to_ndc\n",
        "def ndc_to_user(ndc_x, ndc_y, width, height):\n",
        "\n",
        "    user_x = (ndc_x + 1) * (width / 2)\n",
        "    user_y = (1 - ndc_y) * (height / 2)\n",
        "    return user_x, user_y\n",
        "\n",
        "\n",
        "# Centro de um tela de 15.6 polegadas\n",
        "xwidth = 17.28\n",
        "xheight = 9.72\n",
        "dcx, dcy = p_to_disp(xwidth, xheight, 141.21)\n",
        "\n",
        "ndcx, ndcy = inp_to_ndc(dcy, dcx, dcx*2, dcy*2)\n",
        "\n",
        "#Teste inp_to_ndc\n",
        "print(ndcx)\n",
        "print(ndcy)\n",
        "\n",
        "\n",
        "userx, usery = ndc_to_user(ndcx, ndcy, dcx*2, dcy*2)\n",
        "#Teste ndc_to_user\n",
        "print(userx)\n",
        "print(usery)\n",
        "\n",
        "\n",
        "\n",
        "\n",
        "\n",
        "\n"
      ]
    },
    {
      "cell_type": "markdown",
      "source": [
        "# **Aula 3 - Rasterização**\n",
        "\n",
        "\n",
        "1. Indicar que localizações serão calculadas pelo algoritmo de Bresenham quando se gera por varredura um segmento de reta entre (1,1) e (8,5) em coordenadas da tela;\n",
        "\n",
        "2. Escreva um programa que execute o algoritmo de Bresenham e que seja capaz de provar o resultado obtido no exercício 1;"
      ],
      "metadata": {
        "id": "x9oQUV1YWvZa"
      }
    }
  ]
}